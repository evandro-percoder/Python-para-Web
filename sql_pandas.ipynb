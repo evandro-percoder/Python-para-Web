{
 "metadata": {
  "language_info": {
   "codemirror_mode": {
    "name": "ipython",
    "version": 3
   },
   "file_extension": ".py",
   "mimetype": "text/x-python",
   "name": "python",
   "nbconvert_exporter": "python",
   "pygments_lexer": "ipython3",
   "version": "3.7.3-final"
  },
  "orig_nbformat": 2,
  "kernelspec": {
   "name": "Python 3.7.3 64-bit ('base': conda)",
   "display_name": "Python 3.7.3 64-bit ('base': conda)",
   "metadata": {
    "interpreter": {
     "hash": "c45c6b76f207ab64eea906cc0b0c7a30c6a7044579426491a30b6eb358d77508"
    }
   }
  }
 },
 "nbformat": 4,
 "nbformat_minor": 2,
 "cells": [
  {
   "cell_type": "code",
   "execution_count": null,
   "metadata": {},
   "outputs": [],
   "source": [
    "!pip install pymysql\n",
    "!pip install pyodbc"
   ]
  },
  {
   "cell_type": "code",
   "execution_count": null,
   "metadata": {},
   "outputs": [],
   "source": [
    "import pyodbc\n",
    "\n",
    "def retornar_conexao_sql():\n",
    "    server = \"\"\n",
    "    database = \"\"\n",
    "    username = \"\"\n",
    "    password = \"\"\n",
    "    #string_conexao = 'Driver={SQL Server Native Client 11.0};\n",
    "    # Server='+server+';Database='+database+';UID='+username+';\n",
    "    # PWD='+ password\n",
    "    string_conexao = 'Driver={SQL Server Native Client 11.0};Server='+server+';Database='+database+';Trusted_Connection=yes;'\n",
    "    conexao = pyodbc.connect(string_conexao)\n",
    "    return conexao.cursor()"
   ]
  },
  {
   "cell_type": "code",
   "execution_count": null,
   "metadata": {},
   "outputs": [],
   "source": [
    "cursor = retornar_conexao_sql()\n",
    "cursor.execute ( \"select * from Person.Person \" )\n",
    "row  =  cursor.fetchone ()\n",
    "for r in row:\n",
    "    print(row)"
   ]
  },
  {
   "cell_type": "code",
   "execution_count": null,
   "metadata": {},
   "outputs": [],
   "source": [
    "cursor.execute ( \"select top 10 * from Production.Product \" )\n",
    "row  =  cursor.fetchone ()\n",
    "for r in row:\n",
    "    print('\\n\\n Linha: ',row)"
   ]
  },
  {
   "cell_type": "code",
   "execution_count": null,
   "metadata": {},
   "outputs": [],
   "source": [
    "cursor.execute ( \"select Name from Production.Product \" )\n",
    "row  =  cursor.fetchone ()\n",
    "for r in row:\n",
    "    print('\\n\\n Linha: ',row)"
   ]
  }
 ]
}