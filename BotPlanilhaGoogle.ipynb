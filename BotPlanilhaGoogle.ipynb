{
 "cells": [
  {
   "cell_type": "markdown",
   "metadata": {},
   "source": [
    "<h1>Preenchendo Formulário Automaticamente</h1>"
   ]
  },
  {
   "cell_type": "code",
   "execution_count": null,
   "metadata": {},
   "outputs": [],
   "source": [
    "import webbrowser  # Abre o navegador padrão\n",
    "import pyautogui   # Controla o mouse\n",
    "\n",
    "url = webbrowser.open('https://docs.google.com/forms/d/e/1FAIpQLScSVDFU76rZvbO_tiIwSt6d9sOK0CZyS9KKMCP6cP5O5W5lVQ/viewform')\n",
    "\n",
    "# pode ser a lista de CNPJ\n",
    "lista= ['evandro','pereira','marcelo','yolanda','ana','cassio','marta']\n",
    "\n",
    "\n",
    "# para cada nome na lista, siga fazendo\n",
    "for nome in lista:\n",
    "    \n",
    "    \n",
    "    pyautogui.moveTo(830, 590, duration=2) # clique na campo inicial\n",
    "    pyautogui.click()\n",
    "    pyautogui.typewrite(nome) # Escreve o nome\n",
    "    pyautogui.PAUSE = 1 \n",
    "    \n",
    "    pyautogui.moveTo(830, 830, duration=0.5)# clique na campo inicial\n",
    "    pyautogui.click()\n",
    "    pyautogui.typewrite('Boselli in attack') # Escreve o medo\n",
    "    pyautogui.PAUSE = 1\n",
    "\n",
    "    pyautogui.scroll(-200) # sobe a página\n",
    "    pyautogui.moveTo(782, 830, duration=0.5)# ajusta o mouse\n",
    "    pyautogui.click() # abre as opções\n",
    "\n",
    "    pyautogui.moveTo(782, 930, duration=0.5)# ajusta o mouse\n",
    "    pyautogui.click()\n",
    "\n",
    "    pyautogui.scroll(-800) # sobe a página\n",
    "    pyautogui.moveTo(1140, 400, duration=0.5)# ajusta o mouse\n",
    "    pyautogui.click()\n",
    "\n",
    "    pyautogui.scroll(-800) # sobe a página\n",
    "    pyautogui.moveTo(828, 635, duration=0.5)# ajusta o mouse\n",
    "    pyautogui.click()\n",
    "    pyautogui.typewrite('Python is the best programming language!') # Escreve a mensagem\n",
    "    pyautogui.click()\n",
    "    pyautogui.PAUSE = 1\n",
    "\n",
    "    pyautogui.moveTo(528, 742, duration=0.5) # Enviar\n",
    "    pyautogui.click()\n",
    "\n",
    "\n",
    "    pyautogui.moveTo(533, 385, duration=2) # Enviar outr aresposta\n",
    "    pyautogui.click()"
   ]
  }
 ],
 "metadata": {
  "kernelspec": {
   "display_name": "Python 3",
   "language": "python",
   "name": "python3"
  },
  "language_info": {
   "codemirror_mode": {
    "name": "ipython",
    "version": 3
   },
   "file_extension": ".py",
   "mimetype": "text/x-python",
   "name": "python",
   "nbconvert_exporter": "python",
   "pygments_lexer": "ipython3",
   "version": "3.7.3"
  }
 },
 "nbformat": 4,
 "nbformat_minor": 2
}
