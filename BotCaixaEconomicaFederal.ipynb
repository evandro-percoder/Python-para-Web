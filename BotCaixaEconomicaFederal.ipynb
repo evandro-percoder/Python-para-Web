{
 "cells": [
  {
   "cell_type": "markdown",
   "metadata": {},
   "source": [
    "<h1>Bot de Tarefas Maçantes</h1>\n",
    "\n",
    "<p><a>https://automatetheboringstuff.com/chapter18/</a></p>\n",
    "<p><a>https://pyautogui.readthedocs.io/en/latest/index.html</a></p>"
   ]
  },
  {
   "cell_type": "markdown",
   "metadata": {},
   "source": [
    "<h1>CAIXA ECONÔMICA FEDERAL</h1>"
   ]
  },
  {
   "cell_type": "code",
   "execution_count": 2,
   "metadata": {},
   "outputs": [],
   "source": [
    "\"\"\" Neste caso, é necessário ativar o Flash no Chrome\"\"\"\n",
    "\n",
    "import webbrowser  # Abre o navegador padrão\n",
    "import pyautogui   # Controla o mouse\n",
    "\n",
    "url = webbrowser.open('http://conectividade.caixa.gov.br/RMLWeb/')\n",
    "\n",
    "\n",
    "# clique na tela inicial\n",
    "pyautogui.moveTo(1120, 478, duration=5)\n",
    "pyautogui.click()\n",
    "pyautogui.PAUSE = 1 \n",
    "# clique no botão \"Excluir\" arquivo anterior\n",
    "pyautogui.moveTo(1120, 474, duration=3)\n",
    "pyautogui.click()\n",
    "pyautogui.PAUSE = 1\n",
    "\n",
    "# clique no botão \"Próximo\"\n",
    "pyautogui.moveTo(1485, 845, duration=2)\n",
    "pyautogui.click()\n",
    "pyautogui.PAUSE = 1\n",
    "\n",
    "# clique no botão \"Negar\"\n",
    "pyautogui.moveTo(1020, 725, duration=1)\n",
    "pyautogui.click()\n",
    "pyautogui.PAUSE = 1\n",
    "\n",
    "# clique no botão \"Incluir\"\n",
    "pyautogui.moveTo(1123, 461, duration=1)\n",
    "pyautogui.click()\n",
    "pyautogui.PAUSE = 1 \n",
    "\n",
    "# Selecionar Área de Trabalho\n",
    "pyautogui.moveTo(105, 266, duration=1)\n",
    "pyautogui.click()\n",
    "\n",
    "# Abrir arquivo\n",
    "pyautogui.moveTo(1738, 975, duration=1)\n",
    "pyautogui.click()"
   ]
  }
 ],
 "metadata": {
  "kernelspec": {
   "display_name": "Python 3",
   "language": "python",
   "name": "python3"
  },
  "language_info": {
   "codemirror_mode": {
    "name": "ipython",
    "version": 3
   },
   "file_extension": ".py",
   "mimetype": "text/x-python",
   "name": "python",
   "nbconvert_exporter": "python",
   "pygments_lexer": "ipython3",
   "version": "3.7.3"
  }
 },
 "nbformat": 4,
 "nbformat_minor": 2
}
